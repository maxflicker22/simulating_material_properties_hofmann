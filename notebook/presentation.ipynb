{
 "cells": [
  {
   "cell_type": "markdown",
   "metadata": {
    "vscode": {
     "languageId": "latex"
    }
   },
   "source": [
    "# LEED Diffraction Pattern Recognition for Simulations of Material Property "
   ]
  },
  {
   "cell_type": "markdown",
   "metadata": {
    "vscode": {
     "languageId": "latex"
    }
   },
   "source": [
    "-------------------------------------------------------------------------------\n",
    "\n",
    "## 1. Designing a Neural Network for LEED Images"
   ]
  },
  {
   "cell_type": "markdown",
   "metadata": {
    "vscode": {
     "languageId": "latex"
    }
   },
   "source": [
    "### 1.1 Define Architecture of Network\n",
    "![Overview](overview_sheme.png)\n",
    "\n",
    "<br>\n",
    "\n",
    "```python\n",
    "class BravaisLatticeRecognitionNet(nn.Module):\n",
    "    def __init__(self, num_points, vocab_size=5, hidden_dim=IMAGE_DIM*IMAGE_DIM, num_layers=3):\n",
    "        super(BravaisLatticeRecognitionNet, self).__init__()\n",
    "        self.hidden_layers = nn.ModuleList()\n",
    "        self.input_dim = num_points\n",
    "        for i in range(num_layers):\n",
    "            in_dim = self.input_dim if i == 0 else hidden_dim\n",
    "            self.hidden_layers.append(nn.Linear(in_dim, hidden_dim))\n",
    "        self.output_layer = nn.Linear(hidden_dim, vocab_size)\n",
    "        self.activation = nn.ReLU()\n",
    "\n",
    "    def forward(self, x):\n",
    "        for layer in self.hidden_layers:\n",
    "            x = self.activation(layer(x))\n",
    "        return self.output_layer(x)\n",
    "```\n",
    "\n",
    "<br>\n",
    "\n"
   ]
  },
  {
   "cell_type": "markdown",
   "metadata": {},
   "source": [
    "### 1.2 Choose Loss - Function\n",
    "\n",
    "```python\n",
    "loss_fn = nn.CrossEntropyLoss() # Set Cross Entropy as Loss function\n",
    "optimizer = torch.optim.Adam(model.parameters(), lr=params[\"learning_rate\"]) # Choose optimizer and set learning rate\n",
    "```"
   ]
  },
  {
   "cell_type": "markdown",
   "metadata": {},
   "source": [
    "### 1.3 Set up Hyperparameters: ###"
   ]
  },
  {
   "cell_type": "code",
   "execution_count": 28,
   "metadata": {},
   "outputs": [],
   "source": [
    "# Training settings\n",
    "BATCH_SIZE = 4 # Trial and Error\n",
    "NUM_ITERATIONS = 500 # Trial and Error\n",
    "LEARNING_RATE = 5e-3 # Trial and Error\n",
    "\n",
    "# Model architecture\n",
    "HIDDEN_DIM = 256 # Trial and Error / Informed Guess\n",
    "NUM_LAYERS = 4 # Trial and Error\n",
    "ACTIVATION_FUNC = \"ReLU\" # Informed Guess\n",
    "\n",
    "# Data settings\n",
    "IMAGE_DIM = 128 # size of the input image\n",
    "VOCAB_SIZE = 5  # number of Bravais lattice types\n",
    "K_MAX_PEAKS = 32  # number of peaks to extract\n",
    "\n"
   ]
  },
  {
   "cell_type": "markdown",
   "metadata": {},
   "source": [
    "-------------------------------------------------------------------------------\n",
    "\n",
    "## 2. Physical Background"
   ]
  },
  {
   "cell_type": "markdown",
   "metadata": {},
   "source": [
    "### 2.1 Assumptions due to LEED Diffraction:\n",
    "- Elastic scattering of the electrons\n",
    "- Low penetration depth of electrons (first two lattice layers)\n",
    "- Laue Condition \n",
    "\n",
    "\n",
    "-------------------------------------------------------------------------------"
   ]
  },
  {
   "cell_type": "markdown",
   "metadata": {},
   "source": [
    "### 2.2 Laue Condition:\n",
    "\n",
    "The 2D Laue condition for diffraction is given by:\n",
    "\n",
    "$$\n",
    "\\vec{k}_{\\text{out}} - \\vec{k}_{\\text{in}} = \\vec{G}_{hk} \n",
    "$$\n",
    "\n",
    "Where $\\vec{k}_{\\text{in}}$ is the incident wavevector,  \n",
    "$\\vec{k}_{\\text{out}}$ is the diffracted wavevector,  \n",
    "and $\\vec{G}_{hk} $ is a reciprocal lattice vector defined as:\n",
    "$$\n",
    "\\vec{G}_{hk} = h \\vec{b}_1 + k \\vec{b}_2\n",
    "$$\n",
    "\n",
    "with \\( h, k \\) (Miller-Indizes) and the reciprocal base vectors $\\vec{b}_i$.\n",
    "\n",
    "-------------------------------------------------------------------------------"
   ]
  },
  {
   "cell_type": "markdown",
   "metadata": {},
   "source": [
    "### 2.3 Relation reciprocal and real lattice vectors:\n",
    "\n",
    "$$\n",
    "\\vec{a}_1 = (a_{1x}, a_{1y}, 0), \\quad \n",
    "\\vec{a}_2 = (a_{2x}, a_{2y}, 0), \\quad \n",
    "\\vec{a}_3 = \\vec{e}_z = (0, 0, 1)\n",
    "$$\n",
    "\n",
    "The Volume of the real basis vectors:\n",
    "\n",
    "$$\n",
    "V = \\vec{a}_1 \\cdot (\\vec{a}_2 \\times \\vec{a}_3)\n",
    "$$\n",
    "\n",
    "Reciprocal lattice vectors:\n",
    "\n",
    "$$\n",
    "\\vec{b}_1 = 2\\pi \\frac{\\vec{a}_2 \\times \\vec{a}_3}{V}, \\quad\n",
    "\\vec{b}_2 = 2\\pi \\frac{\\vec{a}_3 \\times \\vec{a}_1}{V}, \\quad\n",
    "\\vec{b}_3 = 2\\pi \\frac{\\vec{a}_1 \\times \\vec{a}_2}{V}\n",
    "$$\n",
    "\n",
    "Orthogonality:\n",
    "\n",
    "$$\n",
    "\\vec{a}_i \\cdot \\vec{b}_j = 2\\pi \\delta_{ij}\n",
    "$$\n",
    "\n",
    "-------------------------------------------------------------------------------\n"
   ]
  },
  {
   "cell_type": "markdown",
   "metadata": {},
   "source": [
    "### 2.4 Intensity of LEED Diffraction Maxima\n",
    "\n",
    "In the kinematic approximation, the intensity of a diffraction maximum in LEED is given by:\n",
    "\n",
    "$$\n",
    "I(\\vec{G}) \\propto \\left| \\sum_{j=1}^{N} f_j \\, e^{i \\vec{G} \\cdot \\vec{r}_j} \\right|^2\n",
    "$$\n",
    "\n",
    "This equation describes how the arrangement of atoms in the 2D surface unit cell affects the scattered intensity.\n",
    "\n",
    "**Explanation of terms:**\n",
    "\n",
    "- $I(\\vec{G})$ — Intensity of the diffracted electron beam in direction $\\vec{G}$\n",
    "- $f_j$ — Scattering amplitude (form factor) of atom $j$, depends on element type and electron energy\n",
    "- $\\vec{r}_j$ — Position of atom $j$ within the 2D unit cell\n",
    "- $N$ — Number of atoms in the unit cell\n",
    "\n",
    "The term inside the modulus is called the **structure factor**:\n",
    "\n",
    "> *Note:* Here in this Project i just consider a **single atom per unit cell** and only **single elastic scattering**. So in that case i make **not use** of **first principle methods**.\n",
    "\n",
    "\n",
    "-------------------------\n"
   ]
  },
  {
   "cell_type": "markdown",
   "metadata": {},
   "source": [
    "## 3. Generate Training Data"
   ]
  },
  {
   "cell_type": "markdown",
   "metadata": {},
   "source": [
    "### 3.1 Define 5 different real bravais lattice vectors:\n",
    "\n",
    "```python\n",
    "# --- Bravais Gitterdefinitionen ---\n",
    "BRAVAIS_TYPES = {\n",
    "    \"tp\": (np.array([1, 0], dtype=np.float32), np.array([0, 1], dtype=np.float32)),\n",
    "    \"op\": (np.array([1, 0], dtype=np.float32), np.array([0, 2], dtype=np.float32)),\n",
    "    \"oc\": (np.array([0.5, 0.5], dtype=np.float32), np.array([0.5, -0.5], dtype=np.float32)),\n",
    "    \"hp\": (np.array([1, 0], dtype=np.float32), np.array([0.5, np.sqrt(3)/2], dtype=np.float32)),\n",
    "    \"mp\": (np.array([1, 0], dtype=np.float32), np.array([0.3420, 0.9397], dtype=np.float32))\n",
    "}"
   ]
  },
  {
   "cell_type": "markdown",
   "metadata": {},
   "source": [
    "### 3.2 Calculate the reciprocal lattice vectors:\n",
    "```python\n",
    "# --- Caluclate reciprocal lattice ---\n",
    "def reciprocal_lattice_2d(a1, a2, a):\n",
    "    a1_3d = np.array([a1[0], a1[1], 0]) * a\n",
    "    a2_3d = np.array([a2[0], a2[1], 0]) * a\n",
    "    area = np.cross(a1_3d, a2_3d)[2]\n",
    "    b1 = 2 * np.pi * np.cross([0, 0, 1], a2_3d)[:2] / area\n",
    "    b2 = 2 * np.pi * np.cross(a1_3d, [0, 0, 1])[:2] / area\n",
    "    return b1.astype(np.float32), b2.astype(np.float32)"
   ]
  },
  {
   "cell_type": "markdown",
   "metadata": {},
   "source": [
    "### 3.3 Generate reciprocal lattice points:\n",
    "```python\n",
    "# --- Generierung der Gitterpunkte ---\n",
    "def generate_lattice_points(b1, b2, N):\n",
    "    lattice_points = []\n",
    "    for i in range(-N, N+1):\n",
    "        for j in range(-N, N+1):\n",
    "            point = i * b1 + j * b2\n",
    "            lattice_points.append(point)\n",
    "    return np.array(lattice_points).T.astype(np.float32)  # shape: (2, (2N+1)^2)\n"
   ]
  },
  {
   "cell_type": "markdown",
   "metadata": {},
   "source": [
    "### 3.4 Place 2D-Gaussians over the reciprocal lattice points:\n",
    "```python\n",
    "# --- Transform infinite sharp peaks to 2D Gaussian for leed image generation ---\n",
    "def gaussian_2d(x, y, means, sigma_x=0.01, sigma_y=0.01):\n",
    "    X, Y = np.meshgrid(x, y)\n",
    "    means = np.array(means.tolist())\n",
    "    print(\"means:\", means)\n",
    "    Z = np.zeros(X.shape)\n",
    "    for i in range(means.shape[0]):\n",
    "        a = 1 / (2 * np.pi * sigma_x * sigma_y)\n",
    "        x0 = means[i, 0]\n",
    "        y0 = means[i, 1]\n",
    "        b = -((X - x0) ** 2 / (2 * sigma_x ** 2) + (Y - y0) ** 2 / (2 *     sigma_y ** 2))\n",
    "        Z += a * np.exp(b)   \n",
    "    return Z"
   ]
  },
  {
   "cell_type": "markdown",
   "metadata": {},
   "source": [
    "### 3.5 Generate LEED - Images 128x128 for different parameters:\n",
    "```python\n",
    "a_list = [1, 3, 5, 2] # Lattice constant\n",
    "sigma_list = [0.01, 0.03, 0.015, 0.02] # Noise of Gaussian\n",
    "n_points_list = [32, 96, 128, 256, 64, 48] # Number of maxima peaks\n",
    "```\n",
    "\n",
    "#### Resulting Dataset:\n",
    "- Train set: 384 Images (80 %)\n",
    "- Test set: 96 Images (20 %)\n",
    "\n",
    "-------------------------------------------------------"
   ]
  },
  {
   "cell_type": "markdown",
   "metadata": {},
   "source": [
    "### 3.7 Example Images: ###\n",
    "![test_sample1](test_sample1.png)\n",
    "![test_sample2](test_sample2.png)\n",
    "![test_sample3](test_sample3.png)\n",
    "![test_sample4](test_sample4.png)\n",
    "![test_sample5](test_sample5.png)\n",
    "\n",
    "---------------------------------"
   ]
  },
  {
   "cell_type": "markdown",
   "metadata": {},
   "source": [
    "## 4. Train Neural Network \n",
    "\n",
    "```python\n",
    "if hasattr(tqdm, '_instances'): tqdm._instances.clear()\n",
    "for iter in tqdm(range(params[\"num_training_iterations\"])):\n",
    "    train_loader, _, _ = get_train_data_from_file(batch_size=BATCH_SIZE) # Get Train Set\n",
    "    train_loader_peaks_xy, train_loader_labels = translate_batch_image_to_peak_coordinates_batch(train_loader) # Identify Peaks returns x, y Component\n",
    "    \n",
    "    model.train() # Set train mode (random zeros)\n",
    "    optimizer.zero_grad() # Calculate Gradients\n",
    "    y_hat = model(train_loader_peaks_xy) # predict\n",
    "    loss = loss_fn(y_hat, train_loader_labels) # Evaluate Loss\n",
    "    loss.backward() # Backpropagation\n",
    "    optimizer.step() # Optimize\n",
    "\n",
    "    # Log metrics to Comet\n",
    "    experiment.log_metric(\"loss\", loss.item(), step=iter)\n",
    "    history.append(loss.item())\n",
    "    if iter % 100 == 0:\n",
    "        torch.save(model.state_dict(), checkpoint_prefix)\n",
    "\n",
    "torch.save(model.state_dict(), checkpoint_prefix)\n",
    "experiment.flush()\n",
    "experiment.end()\n",
    "```\n",
    "--------------------"
   ]
  },
  {
   "cell_type": "markdown",
   "metadata": {},
   "source": [
    "## 5. Results: \n",
    "\n",
    "### 5.1 Loss vs Step:\n",
    "![Loss vs Step](lossvsstep.jpeg)\n",
    "--------------------\n",
    "### 5.2 Best found Hyperparameters:\n",
    "```python\n",
    "# Training settings\n",
    "BATCH_SIZE = 6\n",
    "NUM_ITERATIONS = 500\n",
    "LEARNING_RATE = 5e-3\n",
    "\n",
    "# Model architecture\n",
    "HIDDEN_DIM = 312\n",
    "NUM_LAYERS = 1\n",
    "ACTIVATION_FUNC = \"ReLU\"\n",
    "```\n",
    "--------------------\n",
    "### 5.3 Confusion Matrix:\n",
    "![ConfusionMatrix](confusion_matrix.png)\n",
    "--------------------"
   ]
  },
  {
   "cell_type": "markdown",
   "metadata": {},
   "source": [
    "#### Accuracy: 98.96 %\n",
    "----------------\n",
    "---------------\n"
   ]
  }
 ],
 "metadata": {
  "kernelspec": {
   "display_name": ".venv",
   "language": "python",
   "name": "python3"
  },
  "language_info": {
   "codemirror_mode": {
    "name": "ipython",
    "version": 3
   },
   "file_extension": ".py",
   "mimetype": "text/x-python",
   "name": "python",
   "nbconvert_exporter": "python",
   "pygments_lexer": "ipython3",
   "version": "3.10.16"
  }
 },
 "nbformat": 4,
 "nbformat_minor": 2
}
